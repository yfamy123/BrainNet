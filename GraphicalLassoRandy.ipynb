{
 "cells": [
  {
   "cell_type": "markdown",
   "metadata": {},
   "source": [
    "# Graphical Lasso"
   ]
  },
  {
   "cell_type": "markdown",
   "metadata": {},
   "source": [
    "In this part of the notebook we will implement the Graphical Lasso.  The implementation is based upon\n",
    "\n",
    "Friedman, Jerome, Trevor Hastie, and Robert Tibshirani. \"Sparse inverse covariance estimation with the graphical lasso.\" Biostatistics 9.3 (2008): 432-441.\n",
    "\n",
    "The idea is to solve the following maximization problem\n",
    "\n",
    "$$\n",
    "\\arg \\max_{\\Theta} \\log \\det \\Theta - \\text{trace}(S \\Theta) - \\rho \\| \\Theta \\|_1\n",
    "$$\n",
    "\n",
    "where $S$ is an empirical covariance matrix."
   ]
  },
  {
   "cell_type": "code",
   "execution_count": 1,
   "metadata": {
    "collapsed": false
   },
   "outputs": [],
   "source": [
    "import cvxpy as cvx\n",
    "import numpy as np\n",
    "import matplotlib.pylab as py\n",
    "%matplotlib inline"
   ]
  },
  {
   "cell_type": "code",
   "execution_count": 2,
   "metadata": {
    "collapsed": false
   },
   "outputs": [],
   "source": [
    "def estimatePhi(S, rho):\n",
    "    \"\"\"\n",
    "        S is the empirical covariance matrix.\n",
    "    \"\"\"\n",
    "    assert S.shape[0] == S.shape[1], \"Matrix must be square\"\n",
    "    n = S.shape[0]\n",
    "    \n",
    "    Phi = cvx.Variable(n, n)\n",
    "    \n",
    "    obj = cvx.Minimize(-(cvx.log_det(Phi) - cvx.trace(S*Phi) - rho*cvx.norm(Phi,1)))\n",
    "    constraints = []\n",
    "\n",
    "    prob = cvx.Problem(obj,constraints)\n",
    "    prob.solve(solver=cvx.SCS, eps=1e-5)\n",
    "    return Phi.value"
   ]
  },
  {
   "cell_type": "markdown",
   "metadata": {},
   "source": [
    "We first start with a sparse information matrix.  In other words, an information matrix with almost all $0$ entries."
   ]
  },
  {
   "cell_type": "code",
   "execution_count": 3,
   "metadata": {
    "collapsed": true
   },
   "outputs": [],
   "source": [
    "n = 5\n",
    "samples = 1000\n",
    "RInvTrue = np.matrix(np.zeros([n,n]))\n",
    "RInvTrue += np.eye(n)\n",
    "RInvTrue[1,2] = 0.5\n",
    "RInvTrue[2,1] = 0.5"
   ]
  },
  {
   "cell_type": "code",
   "execution_count": 4,
   "metadata": {
    "collapsed": false
   },
   "outputs": [
    {
     "name": "stdout",
     "output_type": "stream",
     "text": [
      "RInvTrue\n",
      "[[ 1.   0.   0.   0.   0. ]\n",
      " [ 0.   1.   0.5  0.   0. ]\n",
      " [ 0.   0.5  1.   0.   0. ]\n",
      " [ 0.   0.   0.   1.   0. ]\n",
      " [ 0.   0.   0.   0.   1. ]]\n",
      "RTrue\n",
      "[[ 1.          0.          0.          0.          0.        ]\n",
      " [ 0.          1.33333333 -0.66666667  0.          0.        ]\n",
      " [ 0.         -0.66666667  1.33333333  0.          0.        ]\n",
      " [ 0.          0.          0.          1.          0.        ]\n",
      " [ 0.          0.          0.          0.          1.        ]]\n",
      "R\n",
      "[[  9.83601833e-01  -5.87340489e-02  -5.89734485e-04   2.76711234e-02\n",
      "    4.28487690e-02]\n",
      " [ -5.87340489e-02   1.41148659e+00  -7.48435168e-01  -1.30036715e-02\n",
      "   -1.35509718e-03]\n",
      " [ -5.89734485e-04  -7.48435168e-01   1.42321244e+00   2.99137724e-02\n",
      "   -2.94709385e-02]\n",
      " [  2.76711234e-02  -1.30036715e-02   2.99137724e-02   1.05088199e+00\n",
      "   -4.11151530e-02]\n",
      " [  4.28487690e-02  -1.35509718e-03  -2.94709385e-02  -4.11151530e-02\n",
      "    9.95386414e-01]]\n",
      "RInv\n",
      "[[ 1.02293167  0.0586809   0.03097276 -0.02882108 -0.04422808]\n",
      " [ 0.0586809   0.98605907  0.51893598 -0.00356627  0.01403345]\n",
      " [ 0.03097276  0.51893598  0.97655688 -0.02111972  0.02741425]\n",
      " [-0.02882108 -0.00356627 -0.02111972  0.95446395  0.04003533]\n",
      " [-0.04422808  0.01403345  0.02741425  0.04003533  1.00902333]]\n",
      "RInvEstimated\n",
      "[[  9.22862640e-01  -1.59839030e-08   4.87093323e-10   7.35035246e-09\n",
      "    1.13332612e-08]\n",
      " [ -1.59789076e-08   8.09444530e-01   3.44591298e-01   1.22057003e-08\n",
      "   -7.93606005e-09]\n",
      " [  4.87243327e-10   3.44591287e-01   8.03150549e-01  -8.01150339e-09\n",
      "    2.29068000e-11]\n",
      " [  7.34801024e-09   1.22031856e-08  -8.01040259e-09   8.68915510e-01\n",
      "   -1.09261774e-08]\n",
      " [  1.13296314e-08  -7.93397423e-09   2.34325909e-11  -1.09226972e-08\n",
      "    9.12934621e-01]]\n"
     ]
    }
   ],
   "source": [
    "print 'RInvTrue'\n",
    "print RInvTrue\n",
    "plt.imshow(prec)\n",
    "plt.show()\n",
    "RTrue = np.linalg.inv(RInvTrue)\n",
    "print 'RTrue'\n",
    "print RTrue\n",
    "\n",
    "X = np.matrix(np.random.multivariate_normal(np.zeros([n]),RTrue,samples))\n",
    "R = X.T*X/samples\n",
    "print 'R'\n",
    "print R\n",
    "\n",
    "RInv = np.linalg.inv(R)\n",
    "print 'RInv'\n",
    "print RInv\n",
    "\n",
    "RInvEstimated = estimatePhi(R,0.1)\n",
    "print 'RInvEstimated'\n",
    "print RInvEstimated"
   ]
  },
  {
   "cell_type": "markdown",
   "metadata": {},
   "source": [
    "Next we try an information matrix with just a few zeros."
   ]
  },
  {
   "cell_type": "code",
   "execution_count": 5,
   "metadata": {
    "collapsed": false
   },
   "outputs": [
    {
     "name": "stdout",
     "output_type": "stream",
     "text": [
      "RInvTrue\n",
      "[[  3.63026358e+00   5.82619647e+00   9.15587485e-03   5.08954591e-01\n",
      "   -1.24473743e+00]\n",
      " [  5.82619647e+00   1.02233035e+01   0.00000000e+00   3.54054108e-01\n",
      "   -2.33702158e+00]\n",
      " [  9.15587485e-03   0.00000000e+00   7.49555634e+00   2.55037573e+00\n",
      "   -4.18116602e+00]\n",
      " [  5.08954591e-01   3.54054108e-01   2.55037573e+00   2.85996660e+00\n",
      "   -1.16473124e+00]\n",
      " [ -1.24473743e+00  -2.33702158e+00  -4.18116602e+00  -1.16473124e+00\n",
      "    5.00335538e+00]]\n"
     ]
    }
   ],
   "source": [
    "n = 5\n",
    "samples = 1000\n",
    "np.random.seed(12456)\n",
    "RInvTrue = np.matrix(np.zeros([n,n]))\n",
    "for i in range(n):\n",
    "    for j in range(i,n):\n",
    "        RInvTrue[i,j] = RInvTrue[j,i] = np.random.normal()\n",
    "\n",
    "RInvTrue = RInvTrue*RInvTrue.T        \n",
    "RInvTrue[1,2] = 0\n",
    "RInvTrue[2,1] = 0\n",
    "print 'RInvTrue'\n",
    "print RInvTrue"
   ]
  },
  {
   "cell_type": "code",
   "execution_count": 6,
   "metadata": {
    "collapsed": false
   },
   "outputs": [
    {
     "name": "stdout",
     "output_type": "stream",
     "text": [
      "RTrue\n",
      "[[ 3.81001377 -2.16831202  0.14906074 -0.57251319 -0.07365088]\n",
      " [-2.16831202  1.3588853  -0.0093787   0.28902267  0.15473316]\n",
      " [ 0.14906074 -0.0093787   0.38028366 -0.24496715  0.29346935]\n",
      " [-0.57251319  0.28902267 -0.24496715  0.60518593 -0.07126133]\n",
      " [-0.07365088  0.15473316  0.29346935 -0.07126133  0.48247273]]\n",
      "R\n",
      "[[  3.53219977e+00  -2.01187009e+00   1.33285274e-01  -5.34266617e-01\n",
      "   -6.65790295e-02]\n",
      " [ -2.01187009e+00   1.27467508e+00  -2.72453132e-03   2.68473675e-01\n",
      "    1.49942818e-01]\n",
      " [  1.33285274e-01  -2.72453132e-03   3.82884818e-01  -2.39312311e-01\n",
      "    3.03079813e-01]\n",
      " [ -5.34266617e-01   2.68473675e-01  -2.39312311e-01   5.80348365e-01\n",
      "   -9.25384333e-02]\n",
      " [ -6.65790295e-02   1.49942818e-01   3.03079813e-01  -9.25384333e-02\n",
      "    4.80896312e-01]]\n"
     ]
    }
   ],
   "source": [
    "RTrue = np.linalg.inv(RInvTrue)\n",
    "print 'RTrue'\n",
    "print RTrue\n",
    "\n",
    "X = np.matrix(np.random.multivariate_normal(np.zeros([n]),RTrue,samples))\n",
    "R = X.T*X/samples\n",
    "print 'R'\n",
    "print R"
   ]
  },
  {
   "cell_type": "code",
   "execution_count": 7,
   "metadata": {
    "collapsed": false
   },
   "outputs": [
    {
     "name": "stdout",
     "output_type": "stream",
     "text": [
      "RInv\n",
      "[[ 3.50064744  5.56428183  0.08524467  0.49088942 -1.2095418 ]\n",
      " [ 5.56428183  9.77835092  0.14641908  0.2901665  -2.31495667]\n",
      " [ 0.08524467  0.14641908  7.48497649  2.41371462 -4.2867097 ]\n",
      " [ 0.49088942  0.2901665   2.41371462  2.87826187 -0.9898678 ]\n",
      " [-1.2095418  -2.31495667 -4.2867097  -0.9898678   5.1449664 ]]\n",
      "RInvEstimated\n",
      "[[  1.51957410e+00   2.20244473e+00  -2.16246270e-02   2.55599067e-01\n",
      "   -2.73727955e-02]\n",
      " [  2.20244470e+00   4.03781450e+00   3.76606243e-09  -3.16708988e-08\n",
      "   -2.76533435e-01]\n",
      " [ -2.16246277e-02   3.79452714e-09   3.60552981e+00   8.40733273e-01\n",
      "   -1.58098420e+00]\n",
      " [  2.55599067e-01  -3.15792593e-08   8.40733279e-01   2.03527931e+00\n",
      "   -1.37300699e-07]\n",
      " [ -2.73727921e-02  -2.76533431e-01  -1.58098423e+00  -1.37570212e-07\n",
      "    2.68320318e+00]]\n"
     ]
    }
   ],
   "source": [
    "RInv = np.linalg.inv(R)\n",
    "print 'RInv'\n",
    "print RInv\n",
    "\n",
    "RInvEstimated = estimatePhi(R,0.05)\n",
    "print 'RInvEstimated'\n",
    "print RInvEstimated"
   ]
  },
  {
   "cell_type": "code",
   "execution_count": null,
   "metadata": {
    "collapsed": true
   },
   "outputs": [],
   "source": []
  },
  {
   "cell_type": "code",
   "execution_count": null,
   "metadata": {
    "collapsed": true
   },
   "outputs": [],
   "source": []
  },
  {
   "cell_type": "code",
   "execution_count": null,
   "metadata": {
    "collapsed": true
   },
   "outputs": [],
   "source": []
  },
  {
   "cell_type": "code",
   "execution_count": null,
   "metadata": {
    "collapsed": true
   },
   "outputs": [],
   "source": []
  }
 ],
 "metadata": {
  "kernelspec": {
   "display_name": "Python 2",
   "language": "python",
   "name": "python2"
  },
  "language_info": {
   "codemirror_mode": {
    "name": "ipython",
    "version": 2
   },
   "file_extension": ".py",
   "mimetype": "text/x-python",
   "name": "python",
   "nbconvert_exporter": "python",
   "pygments_lexer": "ipython2",
   "version": "2.7.11"
  }
 },
 "nbformat": 4,
 "nbformat_minor": 0
}
